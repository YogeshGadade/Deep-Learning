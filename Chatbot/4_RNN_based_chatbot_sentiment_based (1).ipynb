{
  "nbformat": 4,
  "nbformat_minor": 0,
  "metadata": {
    "colab": {
      "name": "4 RNN_based_chatbot_sentiment_based.ipynb",
      "provenance": [],
      "collapsed_sections": []
    },
    "kernelspec": {
      "display_name": "Python 3",
      "language": "python",
      "name": "python3"
    },
    "language_info": {
      "codemirror_mode": {
        "name": "ipython",
        "version": 3
      },
      "file_extension": ".py",
      "mimetype": "text/x-python",
      "name": "python",
      "nbconvert_exporter": "python",
      "pygments_lexer": "ipython3",
      "version": "3.7.1"
    }
  },
  "cells": [
    {
      "cell_type": "markdown",
      "metadata": {
        "id": "1_iQB-WQ8Sk0"
      },
      "source": [
        "# Chat bot development ( Based on Sentiment using RNN )\n",
        "\n",
        "## Developer: Yogesh Awdhut Gadade\n",
        "\n",
        "#### Input dataset: Topical chat (Amazon Alexa AI) \n",
        "\n",
        "#### system configuration: \n",
        "- Program run on 16 GB RAM, 6 GB of GPU\n",
        "\n",
        "#### Which package needs to be installed\n",
        "- tensorflow"
      ]
    },
    {
      "cell_type": "code",
      "metadata": {
        "id": "aMiXzO0l8Sk5"
      },
      "source": [
        "from pandas import DataFrame, read_json, read_csv\n",
        "import gc          # Garbage collector\n",
        "from IPython.display import clear_output\n",
        "import matplotlib.pyplot as plt\n",
        "%matplotlib inline"
      ],
      "execution_count": null,
      "outputs": []
    },
    {
      "cell_type": "markdown",
      "metadata": {
        "id": "kVJScR5D8Sk6"
      },
      "source": [
        "#### Versions of python and packages used in this notebook:\n",
        "1. Python: 3\n",
        "2. Pandas: 1.0.5 (!pip show pandas)"
      ]
    },
    {
      "cell_type": "code",
      "metadata": {
        "colab": {
          "base_uri": "https://localhost:8080/"
        },
        "id": "7UD_2Guf9O5D",
        "outputId": "dedaab0c-40d7-4760-f44d-c9929d2f7551"
      },
      "source": [
        "from google.colab import drive\n",
        "drive.mount('/content/drive')"
      ],
      "execution_count": null,
      "outputs": [
        {
          "output_type": "stream",
          "name": "stdout",
          "text": [
            "Mounted at /content/drive\n"
          ]
        }
      ]
    },
    {
      "cell_type": "code",
      "metadata": {
        "id": "iVqbOrun8Sk7"
      },
      "source": [
        "strInputDirPath=\".//input//train.json\" # Set current input directory path\n",
        "\n",
        "strInputDirPath=\"/content/drive/MyDrive/Stevens/Deep Learning/input/\""
      ],
      "execution_count": null,
      "outputs": []
    },
    {
      "cell_type": "code",
      "metadata": {
        "id": "X5iGcu-a8Sk_"
      },
      "source": [
        "# On local machine:\n",
        "#pdChatData=read_csv(\"ChatExpanded.csv\")\n",
        "# on google drive\n",
        "pdChatData=read_csv(strInputDirPath+\"sampling.csv\")"
      ],
      "execution_count": null,
      "outputs": []
    },
    {
      "cell_type": "code",
      "metadata": {
        "id": "GiXsbeLX8SlA",
        "colab": {
          "base_uri": "https://localhost:8080/"
        },
        "outputId": "b4af28ef-0d27-4815-df15-3a6663db24d0"
      },
      "source": [
        "pdChatData.columns"
      ],
      "execution_count": null,
      "outputs": [
        {
          "output_type": "execute_result",
          "data": {
            "text/plain": [
              "Index(['conversation_id', 'config', 'agent', 'message', 'agent_1Overall',\n",
              "       'agent_2Overall', 'sentiment', 'turn_rating', 'knowledge_source',\n",
              "       'article_url', 'LemmatizedText'],\n",
              "      dtype='object')"
            ]
          },
          "metadata": {},
          "execution_count": 5
        }
      ]
    },
    {
      "cell_type": "code",
      "metadata": {
        "id": "6xuUFKYP8SlA",
        "scrolled": true,
        "colab": {
          "base_uri": "https://localhost:8080/",
          "height": 234
        },
        "outputId": "d911b99a-80b9-4ca0-ef2c-dee65d9b21ee"
      },
      "source": [
        "pdChatData.head(2)"
      ],
      "execution_count": null,
      "outputs": [
        {
          "output_type": "execute_result",
          "data": {
            "text/html": [
              "<div>\n",
              "<style scoped>\n",
              "    .dataframe tbody tr th:only-of-type {\n",
              "        vertical-align: middle;\n",
              "    }\n",
              "\n",
              "    .dataframe tbody tr th {\n",
              "        vertical-align: top;\n",
              "    }\n",
              "\n",
              "    .dataframe thead th {\n",
              "        text-align: right;\n",
              "    }\n",
              "</style>\n",
              "<table border=\"1\" class=\"dataframe\">\n",
              "  <thead>\n",
              "    <tr style=\"text-align: right;\">\n",
              "      <th></th>\n",
              "      <th>conversation_id</th>\n",
              "      <th>config</th>\n",
              "      <th>agent</th>\n",
              "      <th>message</th>\n",
              "      <th>agent_1Overall</th>\n",
              "      <th>agent_2Overall</th>\n",
              "      <th>sentiment</th>\n",
              "      <th>turn_rating</th>\n",
              "      <th>knowledge_source</th>\n",
              "      <th>article_url</th>\n",
              "      <th>LemmatizedText</th>\n",
              "    </tr>\n",
              "  </thead>\n",
              "  <tbody>\n",
              "    <tr>\n",
              "      <th>0</th>\n",
              "      <td>t_86627de2-fe27-42f1-9250-85054ba5353b</td>\n",
              "      <td>B</td>\n",
              "      <td>agent_1</td>\n",
              "      <td>Have you seen Ethiopias version of Top Chef?</td>\n",
              "      <td>Good</td>\n",
              "      <td>Good</td>\n",
              "      <td>Curious to dive deeper</td>\n",
              "      <td>Good</td>\n",
              "      <td>FS2</td>\n",
              "      <td>https://www.washingtonpost.com/news/inspired-l...</td>\n",
              "      <td>see ethiopia version top chef</td>\n",
              "    </tr>\n",
              "    <tr>\n",
              "      <th>1</th>\n",
              "      <td>t_f3a6d5fb-7f18-41e9-9ab1-5599d265812f</td>\n",
              "      <td>C</td>\n",
              "      <td>agent_2</td>\n",
              "      <td>It has been a pleasure talking to you too.  En...</td>\n",
              "      <td>Good</td>\n",
              "      <td>Passable</td>\n",
              "      <td>Happy</td>\n",
              "      <td>Good</td>\n",
              "      <td>Personal Knowledge</td>\n",
              "      <td>https://www.washingtonpost.com/local/human-rem...</td>\n",
              "      <td>pleasur talk enjoy rap music internet</td>\n",
              "    </tr>\n",
              "  </tbody>\n",
              "</table>\n",
              "</div>"
            ],
            "text/plain": [
              "                          conversation_id  ...                         LemmatizedText\n",
              "0  t_86627de2-fe27-42f1-9250-85054ba5353b  ...          see ethiopia version top chef\n",
              "1  t_f3a6d5fb-7f18-41e9-9ab1-5599d265812f  ...  pleasur talk enjoy rap music internet\n",
              "\n",
              "[2 rows x 11 columns]"
            ]
          },
          "metadata": {},
          "execution_count": 6
        }
      ]
    },
    {
      "cell_type": "code",
      "metadata": {
        "id": "ktqhOUtX8SlA",
        "colab": {
          "base_uri": "https://localhost:8080/"
        },
        "outputId": "a0aa29e6-3097-4751-ee55-086dd9e5ae63"
      },
      "source": [
        "print(f\"Total number of chats (conversations) : {len(pdChatData)}\")\n",
        "print(f\"Total number of Agents                : {len(pdChatData.agent.unique()), list(pdChatData.agent.unique())}\")\n",
        "print(f\"Total number of sentiment             : {len(pdChatData.sentiment.unique()), list(pdChatData.sentiment.unique())}\")\n",
        "print(f\"Total number of knowledge_source      : {len(pdChatData.knowledge_source.unique()), list(pdChatData.knowledge_source.unique())}\")"
      ],
      "execution_count": null,
      "outputs": [
        {
          "output_type": "stream",
          "name": "stdout",
          "text": [
            "Total number of chats (conversations) : 25633\n",
            "Total number of Agents                : (2, ['agent_1', 'agent_2'])\n",
            "Total number of sentiment             : (8, ['Curious to dive deeper', 'Happy', 'Surprised', 'Neutral', 'Sad', 'Fearful', 'Disgusted', 'Angry'])\n",
            "Total number of knowledge_source      : (8, ['FS2', 'Personal Knowledge', 'FS3', 'FS1', 'AS3', 'AS1', 'AS4', 'AS2'])\n"
          ]
        }
      ]
    },
    {
      "cell_type": "code",
      "metadata": {
        "id": "5kVCc8AR8SlE",
        "colab": {
          "base_uri": "https://localhost:8080/",
          "height": 400
        },
        "outputId": "301befbf-6a98-483a-98a5-9b2054fed954"
      },
      "source": [
        "pdChatData.groupby('sentiment').count().sort_values('conversation_id')['conversation_id'].plot(kind='bar')"
      ],
      "execution_count": null,
      "outputs": [
        {
          "output_type": "execute_result",
          "data": {
            "text/plain": [
              "<matplotlib.axes._subplots.AxesSubplot at 0x7f327829a910>"
            ]
          },
          "metadata": {},
          "execution_count": 8
        },
        {
          "output_type": "display_data",
          "data": {
            "image/png": "[encoded data removed]",
            "text/plain": [
              "<Figure size 432x288 with 1 Axes>"
            ]
          },
          "metadata": {
            "needs_background": "light"
          }
        }
      ]
    },
    {
      "cell_type": "markdown",
      "metadata": {
        "id": "wCH-tEjq8SlE"
      },
      "source": [
        "### OBSERVATION:\n",
        "- In the subsample we got from the above step giving us the same distribution as the original dataset has. Hence going to use this for further training and tesing. "
      ]
    },
    {
      "cell_type": "code",
      "metadata": {
        "id": "l6VXc4O4if_F",
        "colab": {
          "base_uri": "https://localhost:8080/"
        },
        "outputId": "15b4b3b0-0852-4730-8dde-926de6e0be5e"
      },
      "source": [
        "# if not present download following\n",
        "import nltk\n",
        "\n",
        "nltk.download('stopwords')\n",
        "nltk.download('punkt')\n",
        "nltk.download('averaged_perceptron_tagger')\n",
        "nltk.download('wordnet')\n"
      ],
      "execution_count": null,
      "outputs": [
        {
          "output_type": "stream",
          "name": "stdout",
          "text": [
            "[nltk_data] Downloading package stopwords to /root/nltk_data...\n",
            "[nltk_data]   Unzipping corpora/stopwords.zip.\n",
            "[nltk_data] Downloading package punkt to /root/nltk_data...\n",
            "[nltk_data]   Unzipping tokenizers/punkt.zip.\n",
            "[nltk_data] Downloading package averaged_perceptron_tagger to\n",
            "[nltk_data]     /root/nltk_data...\n",
            "[nltk_data]   Unzipping taggers/averaged_perceptron_tagger.zip.\n",
            "[nltk_data] Downloading package wordnet to /root/nltk_data...\n",
            "[nltk_data]   Unzipping corpora/wordnet.zip.\n"
          ]
        },
        {
          "output_type": "execute_result",
          "data": {
            "text/plain": [
              "True"
            ]
          },
          "metadata": {},
          "execution_count": 9
        }
      ]
    },
    {
      "cell_type": "code",
      "metadata": {
        "id": "XZDfebFf8SlG",
        "colab": {
          "base_uri": "https://localhost:8080/"
        },
        "outputId": "06958654-fc57-44c5-a508-98af86eda5d0"
      },
      "source": [
        "print('Total number of rows we have: ', len(pdChatData))"
      ],
      "execution_count": null,
      "outputs": [
        {
          "output_type": "stream",
          "name": "stdout",
          "text": [
            "Total number of rows we have:  25633\n"
          ]
        }
      ]
    },
    {
      "cell_type": "code",
      "metadata": {
        "id": "mErLbU3n8SlG"
      },
      "source": [
        "#5. encoding the outputs: target variables are also encoded to decimal values. \n",
        "from sklearn.preprocessing import LabelEncoder\n",
        "le = LabelEncoder()\n",
        "pdChatData['Labels']=le.fit_transform(pdChatData.sentiment)"
      ],
      "execution_count": null,
      "outputs": []
    },
    {
      "cell_type": "markdown",
      "metadata": {
        "id": "EndXBI8F8SlO"
      },
      "source": [
        "# Chatbot based on sentiment using RNN(LSTM)"
      ]
    },
    {
      "cell_type": "code",
      "metadata": {
        "id": "7lmXIIl48SlO",
        "scrolled": true
      },
      "source": [
        "import string\n",
        "from tensorflow.keras.preprocessing.text import Tokenizer\n",
        "from tensorflow.keras.preprocessing.sequence import pad_sequences\n",
        "from sklearn.preprocessing import LabelEncoder\n",
        "\n",
        "tokenizer=''\n",
        "def preprocess_data_for_rnn(data):\n",
        "    global tokenizer\n",
        "    #1. Removing punctuations\n",
        "    #data['inputs'] = data['inputs'].apply(lambda wrd:[ltrs.lower() for ltrs in wrd if ltrs not in string.punctuation])\n",
        "    #data['inputs'] = data['inputs'].apply(lambda wrd: ''.join(wrd))\n",
        "\n",
        "    #2. Tokenize the data\n",
        "    tokenizer = Tokenizer(num_words=10000)\n",
        "    tokenizer.fit_on_texts(data['inputs'])\n",
        "    #Tensorflow’s tokenizer assigns a unique token to each distinct word. \n",
        "\n",
        "\n",
        "    #3. Transform/Convert text to sequence\n",
        "    train = tokenizer.texts_to_sequences(data['inputs'])\n",
        "\n",
        "    #4. Apply padding: padding is done to get all the data to the same length so as to send it to an RNN layer. \n",
        "    x_train = pad_sequences(train)\n",
        "\n",
        "    #5. encoding the outputs: target variables are also encoded to decimal values. \n",
        "    le = LabelEncoder()\n",
        "    y_train = le.fit_transform(data['tags'])\n",
        "    \n",
        "    vocabulary, input_shape, output_length=get_model_input_values(x_train, tokenizer, le)\n",
        "    \n",
        "    return x_train, y_train, vocabulary, input_shape, output_length\n",
        "\n",
        "def get_model_input_values(x_train, tokenizer, le):\n",
        "    #input length\n",
        "    input_shape = x_train.shape[1]\n",
        "    print(\"Input shape: \", input_shape)\n",
        "    #define vocabulary\n",
        "    vocabulary = len(tokenizer.word_index)\n",
        "    print(\"number of unique words in vocabulary: \",vocabulary)\n",
        "    #output length\n",
        "    output_length = le.classes_.shape[0]\n",
        "    print(\"output length: \",output_length)\n",
        "    \n",
        "    return vocabulary, input_shape, output_length"
      ],
      "execution_count": null,
      "outputs": []
    },
    {
      "cell_type": "code",
      "metadata": {
        "id": "KOmX14ll8SlO"
      },
      "source": [
        "# Define Model: creating the model\n",
        "from tensorflow.keras.layers import Input, Embedding, LSTM , Dense,GlobalMaxPooling1D,Flatten\n",
        "from tensorflow.keras.models import Model\n",
        "\n",
        "def get_rnn_model(input_shape, vocabulary):\n",
        "\n",
        "    i = Input(shape=(input_shape,))\n",
        "    x = Embedding(vocabulary+1,333)(i)\n",
        "    x = LSTM(333,return_sequences=True)(x)\n",
        "    x = Flatten()(x)\n",
        "    x = Dense(output_length,activation=\"softmax\")(x)\n",
        "    model  = Model(i,x)\n",
        "    #compiling the model\n",
        "    model.compile(loss=\"sparse_categorical_crossentropy\",optimizer='adam',metrics=['accuracy'])\n",
        "    \n",
        "    return model"
      ],
      "execution_count": null,
      "outputs": []
    },
    {
      "cell_type": "code",
      "metadata": {
        "id": "-8US0mns8SlO",
        "scrolled": true,
        "colab": {
          "base_uri": "https://localhost:8080/"
        },
        "outputId": "f01e748b-dcec-4965-b268-233e2e63e574"
      },
      "source": [
        "#data=pdChatData.copy()\n",
        "data=pdChatData[['LemmatizedText', 'Labels']].astype(str).rename(columns={'LemmatizedText': 'inputs', 'Labels': 'tags'})\n",
        "data.head()\n",
        "print(\"Total Samples to train:\", len(data))"
      ],
      "execution_count": null,
      "outputs": [
        {
          "output_type": "stream",
          "name": "stdout",
          "text": [
            "Total Samples to train: 25633\n"
          ]
        }
      ]
    },
    {
      "cell_type": "code",
      "metadata": {
        "id": "n9YbXdt77usr",
        "colab": {
          "base_uri": "https://localhost:8080/",
          "height": 112
        },
        "outputId": "b8d47400-18e6-493a-b16b-5d6de446e97d"
      },
      "source": [
        "data.head(2)"
      ],
      "execution_count": null,
      "outputs": [
        {
          "output_type": "execute_result",
          "data": {
            "text/html": [
              "<div>\n",
              "<style scoped>\n",
              "    .dataframe tbody tr th:only-of-type {\n",
              "        vertical-align: middle;\n",
              "    }\n",
              "\n",
              "    .dataframe tbody tr th {\n",
              "        vertical-align: top;\n",
              "    }\n",
              "\n",
              "    .dataframe thead th {\n",
              "        text-align: right;\n",
              "    }\n",
              "</style>\n",
              "<table border=\"1\" class=\"dataframe\">\n",
              "  <thead>\n",
              "    <tr style=\"text-align: right;\">\n",
              "      <th></th>\n",
              "      <th>inputs</th>\n",
              "      <th>tags</th>\n",
              "    </tr>\n",
              "  </thead>\n",
              "  <tbody>\n",
              "    <tr>\n",
              "      <th>0</th>\n",
              "      <td>see ethiopia version top chef</td>\n",
              "      <td>1</td>\n",
              "    </tr>\n",
              "    <tr>\n",
              "      <th>1</th>\n",
              "      <td>pleasur talk enjoy rap music internet</td>\n",
              "      <td>4</td>\n",
              "    </tr>\n",
              "  </tbody>\n",
              "</table>\n",
              "</div>"
            ],
            "text/plain": [
              "                                  inputs tags\n",
              "0          see ethiopia version top chef    1\n",
              "1  pleasur talk enjoy rap music internet    4"
            ]
          },
          "metadata": {},
          "execution_count": 15
        }
      ]
    },
    {
      "cell_type": "code",
      "metadata": {
        "colab": {
          "base_uri": "https://localhost:8080/"
        },
        "id": "bIbAJiAd8SlO",
        "outputId": "0806075e-4402-4390-931e-34534d8603cd"
      },
      "source": [
        "#del(model)\n",
        "gc.collect()"
      ],
      "execution_count": null,
      "outputs": [
        {
          "output_type": "execute_result",
          "data": {
            "text/plain": [
              "122"
            ]
          },
          "metadata": {},
          "execution_count": 16
        }
      ]
    },
    {
      "cell_type": "code",
      "metadata": {
        "colab": {
          "base_uri": "https://localhost:8080/"
        },
        "id": "hgWBzhpI8SlP",
        "scrolled": true,
        "outputId": "9032c26e-934f-4d4d-aec2-32db24aba53e"
      },
      "source": [
        "%time x_train, y_train, vocabulary, input_shape, output_length=preprocess_data_for_rnn(data)\n",
        "model=get_rnn_model(input_shape, vocabulary)"
      ],
      "execution_count": null,
      "outputs": [
        {
          "output_type": "stream",
          "name": "stdout",
          "text": [
            "Input shape:  53\n",
            "number of unique words in vocabulary:  10459\n",
            "output length:  8\n",
            "CPU times: user 898 ms, sys: 22.6 ms, total: 920 ms\n",
            "Wall time: 912 ms\n"
          ]
        }
      ]
    },
    {
      "cell_type": "code",
      "metadata": {
        "colab": {
          "base_uri": "https://localhost:8080/"
        },
        "id": "x5FyQ36g8SlP",
        "outputId": "86f74b51-a8bf-4913-f4fd-e1e403a92f2f"
      },
      "source": [
        "model.summary()"
      ],
      "execution_count": null,
      "outputs": [
        {
          "output_type": "stream",
          "name": "stdout",
          "text": [
            "Model: \"model\"\n",
            "_________________________________________________________________\n",
            " Layer (type)                Output Shape              Param #   \n",
            "=================================================================\n",
            " input_1 (InputLayer)        [(None, 53)]              0         \n",
            "                                                                 \n",
            " embedding (Embedding)       (None, 53, 333)           3483180   \n",
            "                                                                 \n",
            " lstm (LSTM)                 (None, 53, 333)           888444    \n",
            "                                                                 \n",
            " flatten (Flatten)           (None, 17649)             0         \n",
            "                                                                 \n",
            " dense (Dense)               (None, 8)                 141200    \n",
            "                                                                 \n",
            "=================================================================\n",
            "Total params: 4,512,824\n",
            "Trainable params: 4,512,824\n",
            "Non-trainable params: 0\n",
            "_________________________________________________________________\n"
          ]
        }
      ]
    },
    {
      "cell_type": "code",
      "metadata": {
        "colab": {
          "base_uri": "https://localhost:8080/"
        },
        "id": "JXAYJGcg8SlP",
        "scrolled": true,
        "outputId": "42fe4370-35d4-4f98-84d8-cd461ab84825"
      },
      "source": [
        "#training the model\n",
        "%time modelRNN = model.fit(x_train,y_train,epochs=20, batch_size=32)  "
      ],
      "execution_count": 20,
      "outputs": [
        {
          "output_type": "stream",
          "name": "stdout",
          "text": [
            "Epoch 1/20\n",
            "802/802 [==============================] - 351s 437ms/step - loss: 1.3575 - accuracy: 0.4464\n",
            "Epoch 2/20\n",
            "802/802 [==============================] - 349s 435ms/step - loss: 1.1745 - accuracy: 0.5337\n",
            "Epoch 3/20\n",
            "802/802 [==============================] - 347s 432ms/step - loss: 0.9322 - accuracy: 0.6394\n",
            "Epoch 4/20\n",
            "802/802 [==============================] - 344s 430ms/step - loss: 0.6824 - accuracy: 0.7406\n",
            "Epoch 5/20\n",
            "802/802 [==============================] - 335s 418ms/step - loss: 0.5124 - accuracy: 0.8037\n",
            "Epoch 6/20\n",
            "802/802 [==============================] - 340s 424ms/step - loss: 0.4004 - accuracy: 0.8488\n",
            "Epoch 7/20\n",
            "802/802 [==============================] - 344s 429ms/step - loss: 0.3142 - accuracy: 0.8817\n",
            "Epoch 8/20\n",
            "802/802 [==============================] - 356s 444ms/step - loss: 0.2537 - accuracy: 0.9072\n",
            "Epoch 9/20\n",
            "802/802 [==============================] - 358s 446ms/step - loss: 0.2096 - accuracy: 0.9231\n",
            "Epoch 10/20\n",
            "802/802 [==============================] - 358s 446ms/step - loss: 0.1651 - accuracy: 0.9407\n",
            "Epoch 11/20\n",
            "802/802 [==============================] - 366s 456ms/step - loss: 0.1417 - accuracy: 0.9481\n",
            "Epoch 12/20\n",
            "802/802 [==============================] - 358s 446ms/step - loss: 0.1188 - accuracy: 0.9565\n",
            "Epoch 13/20\n",
            "802/802 [==============================] - 357s 446ms/step - loss: 0.1020 - accuracy: 0.9638\n",
            "Epoch 14/20\n",
            "802/802 [==============================] - 355s 443ms/step - loss: 0.0837 - accuracy: 0.9697\n",
            "Epoch 15/20\n",
            "802/802 [==============================] - 359s 448ms/step - loss: 0.0720 - accuracy: 0.9745\n",
            "Epoch 16/20\n",
            "802/802 [==============================] - 360s 449ms/step - loss: 0.0645 - accuracy: 0.9775\n",
            "Epoch 17/20\n",
            "802/802 [==============================] - 360s 449ms/step - loss: 0.0593 - accuracy: 0.9796\n",
            "Epoch 18/20\n",
            "802/802 [==============================] - 359s 447ms/step - loss: 0.0605 - accuracy: 0.9792\n",
            "Epoch 19/20\n",
            "802/802 [==============================] - 365s 455ms/step - loss: 0.0496 - accuracy: 0.9824\n",
            "Epoch 20/20\n",
            "802/802 [==============================] - 359s 447ms/step - loss: 0.0416 - accuracy: 0.9852\n",
            "CPU times: user 3h 29min 49s, sys: 8min 21s, total: 3h 38min 11s\n",
            "Wall time: 1h 58min\n"
          ]
        }
      ]
    },
    {
      "cell_type": "code",
      "metadata": {
        "id": "mw_cdAfS8SlP"
      },
      "source": [
        "# save model\n",
        "#modelRNN.('rnn_model_for_chat.h5')"
      ],
      "execution_count": 21,
      "outputs": []
    },
    {
      "cell_type": "code",
      "metadata": {
        "id": "Nw6yMyhS8SlP"
      },
      "source": [
        "# save model immediately here in another notebook try to develop chat response mechanism based on sentiment prediction"
      ],
      "execution_count": 22,
      "outputs": []
    },
    {
      "cell_type": "markdown",
      "metadata": {
        "id": "Ha_5C27c8SlP"
      },
      "source": [
        "The Network consist of an embedding layer which is one of the most powerful things in the field of natural language processing. the outputs of the embedding layer is the input of the reccurent layer with lstm gate. then, the output is flattened and a regular dense layer is used with a softmax activation function."
      ]
    },
    {
      "cell_type": "code",
      "metadata": {
        "id": "NAnS2wzB8SlP",
        "colab": {
          "base_uri": "https://localhost:8080/"
        },
        "outputId": "31779bcd-03ec-4617-df84-0b740672e890"
      },
      "source": [
        "pdChatData.sentiment.unique()"
      ],
      "execution_count": 23,
      "outputs": [
        {
          "output_type": "execute_result",
          "data": {
            "text/plain": [
              "array(['Curious to dive deeper', 'Happy', 'Surprised', 'Neutral', 'Sad',\n",
              "       'Fearful', 'Disgusted', 'Angry'], dtype=object)"
            ]
          },
          "metadata": {},
          "execution_count": 23
        }
      ]
    },
    {
      "cell_type": "markdown",
      "metadata": {
        "id": "WKZij4s98SlQ"
      },
      "source": [
        "# Response from chatbot - here use beam search technique"
      ]
    },
    {
      "cell_type": "markdown",
      "metadata": {
        "id": "plAL8n8d8SlQ"
      },
      "source": [
        "1. Input: These are exactly the messages that the user is going to be sending to the bot.\n",
        "2. tags : tags are used to categorise the inputs and map them to a particular type of response\n",
        "3. responses : once, we have mapped an input to an appropriate tag, we can select one of the response to give back to the user.\n"
      ]
    },
    {
      "cell_type": "code",
      "metadata": {
        "id": "iJDDCkKX8SlQ"
      },
      "source": [
        "# Creating responses dictionary. \n",
        "# Trained model will predict the sentiment. Responses will have chat listed for each sentiment one of which will be output\n",
        "lstSentiments=list(pdChatData.sentiment.unique())\n",
        "responses = {}\n",
        "for strSentiment in lstSentiments:\n",
        "    responses[strSentiment] = list(pdChatData[pdChatData.sentiment == strSentiment]['message'].unique())\n",
        "    \n",
        "    \n",
        "#chatting\n",
        "import random\n",
        "import numpy as np\n",
        "blFlag=True\n",
        "while blFlag:\n",
        "    texts_p = []\n",
        "    prediction_input = input('You : ')\n",
        "    if str(prediction_input) == \"exit\":\n",
        "        blFlag=False\n",
        "        break\n",
        "    #removing punctuation and converting to lowercase\n",
        "    prediction_input = [letters.lower() for letters in prediction_input if letters not in string.punctuation]\n",
        "    prediction_input = ''.join(prediction_input)\n",
        "    texts_p.append(prediction_input)\n",
        "    #tokenizing and padding\n",
        "    prediction_input = tokenizer.texts_to_sequences(texts_p)\n",
        "    prediction_input = np.array(prediction_input).reshape(-1)\n",
        "    prediction_input = pad_sequences([prediction_input],input_shape)\n",
        "    #getting output from model\n",
        "    output = model.predict(prediction_input)\n",
        "    output = output.argmax()\n",
        "    #finding the right tag and predicting\n",
        "    response_tag = le.inverse_transform([output])[0]\n",
        "    print(response_tag)\n",
        "    \n",
        "    \n",
        "    print(\"Chatbot : \", random.choice(responses[response_tag]))\n",
        "    \n",
        "    \n",
        "\n"
      ],
      "execution_count": null,
      "outputs": []
    },
    {
      "cell_type": "code",
      "metadata": {
        "id": "UEAcSF-l8SlQ"
      },
      "source": [
        ""
      ],
      "execution_count": null,
      "outputs": []
    },
    {
      "cell_type": "markdown",
      "metadata": {
        "id": "H3SJ2JGd3O7r"
      },
      "source": [
        "## Conclusion:\n",
        "- Althoug model achieved more than 98% but the response technique will need further improvements in creating responses ( beam search )"
      ]
    }
  ]
}