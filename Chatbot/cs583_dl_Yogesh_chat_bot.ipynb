{
 "cells": [
  {
   "cell_type": "markdown",
   "metadata": {},
   "source": [
    "# Chat bot development\n",
    "## Developer: Yogesh Awdhut Gadade\n",
    "\n",
    "#### Input dataset: Topical chat (Amazon Alexa AI) "
   ]
  },
  {
   "cell_type": "code",
   "execution_count": 182,
   "metadata": {},
   "outputs": [],
   "source": [
    "from pandas import DataFrame, read_json, read_csv\n",
    "import gc          # Garbage collector"
   ]
  },
  {
   "cell_type": "markdown",
   "metadata": {},
   "source": [
    "#### Versions of python and packages used in this notebook:\n",
    "1. Python: 3\n",
    "2. Pandas: 1.0.5 (!pip show pandas)"
   ]
  },
  {
   "cell_type": "markdown",
   "metadata": {},
   "source": [
    "# Steps:\n",
    "\n",
    "### Pre-processing of dataset:\n",
    "Start with ready to use data from Kaggle which is derived from original data\n",
    "\n",
    "OR later try :\n",
    "\n",
    "- Bring dataset into X and Y form\n",
    "- Prepare X axis text by applying NLP \n",
    "\n",
    "### Models trying out\n",
    "\n",
    "1. Implement & evaluate performance of pretrained HuggingFace Library ( Transformer in the backend )\n",
    "2. Implement & evaluate performance of model ______ built using NLTK\n",
    "3. Implement & evaluate performance of model LSTM RNN\n",
    "4. Implement & evaluate performance of model using Transformer if needed \n",
    "\n",
    "\n",
    "#### NOTE from 2  to 4 pipeline cab be formed to select the best one\n",
    "\n",
    "1. For evaluation can try out cross validation\n",
    "2. Can we use grid search\n"
   ]
  },
  {
   "cell_type": "code",
   "execution_count": 183,
   "metadata": {},
   "outputs": [],
   "source": [
    "strInputDirPath=\".//input//train.json\" # Set current input directory path"
   ]
  },
  {
   "cell_type": "code",
   "execution_count": 184,
   "metadata": {},
   "outputs": [
    {
     "data": {
      "text/html": [
       "<div>\n",
       "<style scoped>\n",
       "    .dataframe tbody tr th:only-of-type {\n",
       "        vertical-align: middle;\n",
       "    }\n",
       "\n",
       "    .dataframe tbody tr th {\n",
       "        vertical-align: top;\n",
       "    }\n",
       "\n",
       "    .dataframe thead th {\n",
       "        text-align: right;\n",
       "    }\n",
       "</style>\n",
       "<table border=\"1\" class=\"dataframe\">\n",
       "  <thead>\n",
       "    <tr style=\"text-align: right;\">\n",
       "      <th></th>\n",
       "      <th>t_bde29ce2-4153-4056-9eb7-f4ad710505fe</th>\n",
       "      <th>t_1abc9c37-387d-4013-8691-88ef8c010e58</th>\n",
       "      <th>t_1a600621-5ad4-409c-a812-bc0b2bb03aa6</th>\n",
       "      <th>t_01269680-99c3-4ab4-9df3-23901e0623c9</th>\n",
       "      <th>t_c4f84350-a9e8-4928-bde8-5193b62388e0</th>\n",
       "      <th>t_222ac48a-a52e-401a-a1c9-b2436edd8096</th>\n",
       "      <th>t_38454270-bfca-4263-8513-3fb4a05fd376</th>\n",
       "      <th>t_23942b1a-e379-41bd-826d-3e500f4f0e1a</th>\n",
       "      <th>t_f289d280-afcd-46f5-97e1-64a9e3aedc70</th>\n",
       "      <th>t_d61bd2b1-d554-406f-afb9-5a745a7a9ad1</th>\n",
       "      <th>...</th>\n",
       "      <th>t_529686fc-67c8-4704-9936-817817f272cf</th>\n",
       "      <th>t_c8a4d93f-bfba-4e95-a342-ac392d36d3ed</th>\n",
       "      <th>t_8d364c09-a99c-482a-a4ab-1903d093092c</th>\n",
       "      <th>t_6ff1ae46-0769-453f-8977-b62ac551e79d</th>\n",
       "      <th>t_658b2314-fa4e-4ae8-b69f-eb36f132ca58</th>\n",
       "      <th>t_56ef264f-af34-42ff-ac54-0f8d5a47e8b4</th>\n",
       "      <th>t_1a8383a5-2c8d-4687-b26e-3434b6d7fd91</th>\n",
       "      <th>t_46a82c75-d203-49c5-9d9a-2e03085d829b</th>\n",
       "      <th>t_e959a00e-5928-411f-9933-347edb6edf6b</th>\n",
       "      <th>t_884c3d36-67da-41a1-b432-6aa8601d31f7</th>\n",
       "    </tr>\n",
       "  </thead>\n",
       "  <tbody>\n",
       "    <tr>\n",
       "      <th>article_url</th>\n",
       "      <td>https://www.washingtonpost.com/blogs/compost/w...</td>\n",
       "      <td>https://www.washingtonpost.com/entertainment/t...</td>\n",
       "      <td>https://www.washingtonpost.com/blogs/compost/w...</td>\n",
       "      <td>https://www.washingtonpost.com/entertainment/t...</td>\n",
       "      <td>https://www.washingtonpost.com/entertainment/t...</td>\n",
       "      <td>https://www.washingtonpost.com/blogs/compost/w...</td>\n",
       "      <td>https://www.washingtonpost.com/news/comic-riff...</td>\n",
       "      <td>https://www.washingtonpost.com/news/comic-riff...</td>\n",
       "      <td>https://www.washingtonpost.com/lifestyle/kidsp...</td>\n",
       "      <td>https://www.washingtonpost.com/lifestyle/style...</td>\n",
       "      <td>...</td>\n",
       "      <td>https://www.washingtonpost.com/news/early-lead...</td>\n",
       "      <td>http://www.washingtonpost.com/education/2018/0...</td>\n",
       "      <td>http://www.washingtonpost.com/education/2018/0...</td>\n",
       "      <td>http://www.washingtonpost.com/education/2018/0...</td>\n",
       "      <td>https://www.washingtonpost.com/news/early-lead...</td>\n",
       "      <td>https://www.washingtonpost.com/news/early-lead...</td>\n",
       "      <td>https://www.washingtonpost.com/news/early-lead...</td>\n",
       "      <td>https://www.washingtonpost.com/news/early-lead...</td>\n",
       "      <td>https://www.washingtonpost.com/sports/colleges...</td>\n",
       "      <td>https://www.washingtonpost.com/sports/colleges...</td>\n",
       "    </tr>\n",
       "    <tr>\n",
       "      <th>config</th>\n",
       "      <td>C</td>\n",
       "      <td>B</td>\n",
       "      <td>C</td>\n",
       "      <td>C</td>\n",
       "      <td>B</td>\n",
       "      <td>A</td>\n",
       "      <td>B</td>\n",
       "      <td>C</td>\n",
       "      <td>D</td>\n",
       "      <td>B</td>\n",
       "      <td>...</td>\n",
       "      <td>D</td>\n",
       "      <td>B</td>\n",
       "      <td>D</td>\n",
       "      <td>C</td>\n",
       "      <td>D</td>\n",
       "      <td>B</td>\n",
       "      <td>B</td>\n",
       "      <td>C</td>\n",
       "      <td>A</td>\n",
       "      <td>B</td>\n",
       "    </tr>\n",
       "    <tr>\n",
       "      <th>content</th>\n",
       "      <td>[{'message': 'Are you a fan of Google or Micro...</td>\n",
       "      <td>[{'message': 'do you like dance?', 'agent': 'a...</td>\n",
       "      <td>[{'message': 'Hey what's up do use Google very...</td>\n",
       "      <td>[{'message': 'Hi!  do you like to dance?', 'ag...</td>\n",
       "      <td>[{'message': 'do you like dance?', 'agent': 'a...</td>\n",
       "      <td>[{'message': 'hi, do you use google much?', 'a...</td>\n",
       "      <td>[{'message': 'Do you like comic books?', 'agen...</td>\n",
       "      <td>[{'message': 'Can you believe there is stars t...</td>\n",
       "      <td>[{'message': 'Are you a Star Wars fan? I need ...</td>\n",
       "      <td>[{'message': 'Naming a cloned cat \"copy cat\", ...</td>\n",
       "      <td>...</td>\n",
       "      <td>[{'message': 'Good morning, are you a football...</td>\n",
       "      <td>[{'message': 'Good Afternoon!', 'agent': 'agen...</td>\n",
       "      <td>[{'message': 'Hi!  Do you know a lot about sho...</td>\n",
       "      <td>[{'message': 'I love shoes, in fact I have a c...</td>\n",
       "      <td>[{'message': 'Hello there, do you watch much t...</td>\n",
       "      <td>[{'message': 'Good Morning!', 'agent': 'agent_...</td>\n",
       "      <td>[{'message': 'Do you watch television at all? ...</td>\n",
       "      <td>[{'message': 'Do you watch a lot of TV?', 'age...</td>\n",
       "      <td>[{'message': 'Hi, how are you?', 'agent': 'age...</td>\n",
       "      <td>[{'message': 'Are you a fan of football by any...</td>\n",
       "    </tr>\n",
       "    <tr>\n",
       "      <th>conversation_rating</th>\n",
       "      <td>{'agent_1': 'Excellent', 'agent_2': 'Excellent'}</td>\n",
       "      <td>{'agent_1': 'Excellent', 'agent_2': 'Excellent'}</td>\n",
       "      <td>{'agent_1': 'Excellent', 'agent_2': 'Excellent'}</td>\n",
       "      <td>{'agent_1': 'Excellent', 'agent_2': 'Excellent'}</td>\n",
       "      <td>{'agent_1': 'Excellent', 'agent_2': 'Excellent'}</td>\n",
       "      <td>{'agent_1': 'Excellent', 'agent_2': 'Excellent'}</td>\n",
       "      <td>{'agent_1': 'Good', 'agent_2': 'Excellent'}</td>\n",
       "      <td>{'agent_1': 'Passable', 'agent_2': 'Passable'}</td>\n",
       "      <td>{'agent_1': 'Excellent', 'agent_2': 'Good'}</td>\n",
       "      <td>{'agent_1': 'Excellent', 'agent_2': 'Good'}</td>\n",
       "      <td>...</td>\n",
       "      <td>{'agent_1': 'Good', 'agent_2': 'Good'}</td>\n",
       "      <td>{'agent_1': 'Excellent', 'agent_2': 'Excellent'}</td>\n",
       "      <td>{'agent_1': 'Excellent', 'agent_2': 'Good'}</td>\n",
       "      <td>{'agent_1': 'Excellent', 'agent_2': 'Good'}</td>\n",
       "      <td>{'agent_1': 'Good', 'agent_2': 'Excellent'}</td>\n",
       "      <td>{'agent_1': 'Excellent', 'agent_2': 'Good'}</td>\n",
       "      <td>{'agent_1': 'Good', 'agent_2': 'Good'}</td>\n",
       "      <td>{'agent_1': 'Good', 'agent_2': 'Good'}</td>\n",
       "      <td>{'agent_1': 'Good', 'agent_2': 'Excellent'}</td>\n",
       "      <td>{'agent_1': 'Good', 'agent_2': 'Good'}</td>\n",
       "    </tr>\n",
       "  </tbody>\n",
       "</table>\n",
       "<p>4 rows × 8628 columns</p>\n",
       "</div>"
      ],
      "text/plain": [
       "                                t_bde29ce2-4153-4056-9eb7-f4ad710505fe  \\\n",
       "article_url          https://www.washingtonpost.com/blogs/compost/w...   \n",
       "config                                                               C   \n",
       "content              [{'message': 'Are you a fan of Google or Micro...   \n",
       "conversation_rating   {'agent_1': 'Excellent', 'agent_2': 'Excellent'}   \n",
       "\n",
       "                                t_1abc9c37-387d-4013-8691-88ef8c010e58  \\\n",
       "article_url          https://www.washingtonpost.com/entertainment/t...   \n",
       "config                                                               B   \n",
       "content              [{'message': 'do you like dance?', 'agent': 'a...   \n",
       "conversation_rating   {'agent_1': 'Excellent', 'agent_2': 'Excellent'}   \n",
       "\n",
       "                                t_1a600621-5ad4-409c-a812-bc0b2bb03aa6  \\\n",
       "article_url          https://www.washingtonpost.com/blogs/compost/w...   \n",
       "config                                                               C   \n",
       "content              [{'message': 'Hey what's up do use Google very...   \n",
       "conversation_rating   {'agent_1': 'Excellent', 'agent_2': 'Excellent'}   \n",
       "\n",
       "                                t_01269680-99c3-4ab4-9df3-23901e0623c9  \\\n",
       "article_url          https://www.washingtonpost.com/entertainment/t...   \n",
       "config                                                               C   \n",
       "content              [{'message': 'Hi!  do you like to dance?', 'ag...   \n",
       "conversation_rating   {'agent_1': 'Excellent', 'agent_2': 'Excellent'}   \n",
       "\n",
       "                                t_c4f84350-a9e8-4928-bde8-5193b62388e0  \\\n",
       "article_url          https://www.washingtonpost.com/entertainment/t...   \n",
       "config                                                               B   \n",
       "content              [{'message': 'do you like dance?', 'agent': 'a...   \n",
       "conversation_rating   {'agent_1': 'Excellent', 'agent_2': 'Excellent'}   \n",
       "\n",
       "                                t_222ac48a-a52e-401a-a1c9-b2436edd8096  \\\n",
       "article_url          https://www.washingtonpost.com/blogs/compost/w...   \n",
       "config                                                               A   \n",
       "content              [{'message': 'hi, do you use google much?', 'a...   \n",
       "conversation_rating   {'agent_1': 'Excellent', 'agent_2': 'Excellent'}   \n",
       "\n",
       "                                t_38454270-bfca-4263-8513-3fb4a05fd376  \\\n",
       "article_url          https://www.washingtonpost.com/news/comic-riff...   \n",
       "config                                                               B   \n",
       "content              [{'message': 'Do you like comic books?', 'agen...   \n",
       "conversation_rating        {'agent_1': 'Good', 'agent_2': 'Excellent'}   \n",
       "\n",
       "                                t_23942b1a-e379-41bd-826d-3e500f4f0e1a  \\\n",
       "article_url          https://www.washingtonpost.com/news/comic-riff...   \n",
       "config                                                               C   \n",
       "content              [{'message': 'Can you believe there is stars t...   \n",
       "conversation_rating     {'agent_1': 'Passable', 'agent_2': 'Passable'}   \n",
       "\n",
       "                                t_f289d280-afcd-46f5-97e1-64a9e3aedc70  \\\n",
       "article_url          https://www.washingtonpost.com/lifestyle/kidsp...   \n",
       "config                                                               D   \n",
       "content              [{'message': 'Are you a Star Wars fan? I need ...   \n",
       "conversation_rating        {'agent_1': 'Excellent', 'agent_2': 'Good'}   \n",
       "\n",
       "                                t_d61bd2b1-d554-406f-afb9-5a745a7a9ad1  ...  \\\n",
       "article_url          https://www.washingtonpost.com/lifestyle/style...  ...   \n",
       "config                                                               B  ...   \n",
       "content              [{'message': 'Naming a cloned cat \"copy cat\", ...  ...   \n",
       "conversation_rating        {'agent_1': 'Excellent', 'agent_2': 'Good'}  ...   \n",
       "\n",
       "                                t_529686fc-67c8-4704-9936-817817f272cf  \\\n",
       "article_url          https://www.washingtonpost.com/news/early-lead...   \n",
       "config                                                               D   \n",
       "content              [{'message': 'Good morning, are you a football...   \n",
       "conversation_rating             {'agent_1': 'Good', 'agent_2': 'Good'}   \n",
       "\n",
       "                                t_c8a4d93f-bfba-4e95-a342-ac392d36d3ed  \\\n",
       "article_url          http://www.washingtonpost.com/education/2018/0...   \n",
       "config                                                               B   \n",
       "content              [{'message': 'Good Afternoon!', 'agent': 'agen...   \n",
       "conversation_rating   {'agent_1': 'Excellent', 'agent_2': 'Excellent'}   \n",
       "\n",
       "                                t_8d364c09-a99c-482a-a4ab-1903d093092c  \\\n",
       "article_url          http://www.washingtonpost.com/education/2018/0...   \n",
       "config                                                               D   \n",
       "content              [{'message': 'Hi!  Do you know a lot about sho...   \n",
       "conversation_rating        {'agent_1': 'Excellent', 'agent_2': 'Good'}   \n",
       "\n",
       "                                t_6ff1ae46-0769-453f-8977-b62ac551e79d  \\\n",
       "article_url          http://www.washingtonpost.com/education/2018/0...   \n",
       "config                                                               C   \n",
       "content              [{'message': 'I love shoes, in fact I have a c...   \n",
       "conversation_rating        {'agent_1': 'Excellent', 'agent_2': 'Good'}   \n",
       "\n",
       "                                t_658b2314-fa4e-4ae8-b69f-eb36f132ca58  \\\n",
       "article_url          https://www.washingtonpost.com/news/early-lead...   \n",
       "config                                                               D   \n",
       "content              [{'message': 'Hello there, do you watch much t...   \n",
       "conversation_rating        {'agent_1': 'Good', 'agent_2': 'Excellent'}   \n",
       "\n",
       "                                t_56ef264f-af34-42ff-ac54-0f8d5a47e8b4  \\\n",
       "article_url          https://www.washingtonpost.com/news/early-lead...   \n",
       "config                                                               B   \n",
       "content              [{'message': 'Good Morning!', 'agent': 'agent_...   \n",
       "conversation_rating        {'agent_1': 'Excellent', 'agent_2': 'Good'}   \n",
       "\n",
       "                                t_1a8383a5-2c8d-4687-b26e-3434b6d7fd91  \\\n",
       "article_url          https://www.washingtonpost.com/news/early-lead...   \n",
       "config                                                               B   \n",
       "content              [{'message': 'Do you watch television at all? ...   \n",
       "conversation_rating             {'agent_1': 'Good', 'agent_2': 'Good'}   \n",
       "\n",
       "                                t_46a82c75-d203-49c5-9d9a-2e03085d829b  \\\n",
       "article_url          https://www.washingtonpost.com/news/early-lead...   \n",
       "config                                                               C   \n",
       "content              [{'message': 'Do you watch a lot of TV?', 'age...   \n",
       "conversation_rating             {'agent_1': 'Good', 'agent_2': 'Good'}   \n",
       "\n",
       "                                t_e959a00e-5928-411f-9933-347edb6edf6b  \\\n",
       "article_url          https://www.washingtonpost.com/sports/colleges...   \n",
       "config                                                               A   \n",
       "content              [{'message': 'Hi, how are you?', 'agent': 'age...   \n",
       "conversation_rating        {'agent_1': 'Good', 'agent_2': 'Excellent'}   \n",
       "\n",
       "                                t_884c3d36-67da-41a1-b432-6aa8601d31f7  \n",
       "article_url          https://www.washingtonpost.com/sports/colleges...  \n",
       "config                                                               B  \n",
       "content              [{'message': 'Are you a fan of football by any...  \n",
       "conversation_rating             {'agent_1': 'Good', 'agent_2': 'Good'}  \n",
       "\n",
       "[4 rows x 8628 columns]"
      ]
     },
     "execution_count": 184,
     "metadata": {},
     "output_type": "execute_result"
    }
   ],
   "source": [
    "pdInputJson=read_json(strInputDirPath)\n",
    "pdInputJson"
   ]
  },
  {
   "cell_type": "markdown",
   "metadata": {},
   "source": [
    "### About original (raw) input dataset\n",
    "\n",
    "This is a **Topical Chat dataset** from **Amazon**! It consists of over **8000 conversations** and over **184000 messages**!\n",
    "\n",
    "1. Within each message, there is: A **conversation id**, which is basically which conversation the message takes place in. \n",
    "2. Each **message** is either the start of a conversation or a reply from the previous message. \n",
    "3. There is also a **sentiment**, which represents the emotion that the person who sent the message is feeling. There are **8 sentiments: Angry, Curious to Dive Deeper, Disguised, Fearful, Happy, Sad, and Surprised**.\n",
    "\n",
    "\n",
    "Use of this dataset:\n",
    "- This dataset can be used in machine learning to **simulate a conversation or to make a chatbot**. \n",
    "- It can also be used for **data visualization**, for example you could visualize the word usage for the different emotions.\n",
    "\n",
    "\n",
    "Original github dataset:\n",
    "https://github.com/alexa/Topical-Chat\n",
    "Check out this research paper for this dataset: https://m.media-amazon.com/images/G/01/amazon.jobs/3079_Paper._CB1565131710_.pdf\n",
    "\n",
    "\n",
    "Input in CSV format: \n",
    "PS: If you cannot download the dataset, download it from here: https://docs.google.com/spreadsheets/d/1dFdlvgmyXfN3SriVn5Byv_BNtyroICxdgrQKBzuMA1U/edit?usp=sharing\n",
    "\n",
    "\n",
    "\n",
    "\n"
   ]
  },
  {
   "cell_type": "code",
   "execution_count": 185,
   "metadata": {},
   "outputs": [
    {
     "data": {
      "text/plain": [
       "2348"
      ]
     },
     "execution_count": 185,
     "metadata": {},
     "output_type": "execute_result"
    }
   ],
   "source": [
    "del(pdInputJson)  #Deleting object since not using it in later stages\n",
    "gc.collect()"
   ]
  },
  {
   "cell_type": "code",
   "execution_count": 186,
   "metadata": {},
   "outputs": [
    {
     "data": {
      "text/html": [
       "<div>\n",
       "<style scoped>\n",
       "    .dataframe tbody tr th:only-of-type {\n",
       "        vertical-align: middle;\n",
       "    }\n",
       "\n",
       "    .dataframe tbody tr th {\n",
       "        vertical-align: top;\n",
       "    }\n",
       "\n",
       "    .dataframe thead th {\n",
       "        text-align: right;\n",
       "    }\n",
       "</style>\n",
       "<table border=\"1\" class=\"dataframe\">\n",
       "  <thead>\n",
       "    <tr style=\"text-align: right;\">\n",
       "      <th></th>\n",
       "      <th>conversation_id</th>\n",
       "      <th>message</th>\n",
       "      <th>sentiment</th>\n",
       "    </tr>\n",
       "  </thead>\n",
       "  <tbody>\n",
       "    <tr>\n",
       "      <th>0</th>\n",
       "      <td>1</td>\n",
       "      <td>Are you a fan of Google or Microsoft?</td>\n",
       "      <td>Curious to dive deeper</td>\n",
       "    </tr>\n",
       "    <tr>\n",
       "      <th>1</th>\n",
       "      <td>1</td>\n",
       "      <td>Both are excellent technology they are helpfu...</td>\n",
       "      <td>Curious to dive deeper</td>\n",
       "    </tr>\n",
       "    <tr>\n",
       "      <th>2</th>\n",
       "      <td>1</td>\n",
       "      <td>I'm not  a huge fan of Google, but I use it a...</td>\n",
       "      <td>Curious to dive deeper</td>\n",
       "    </tr>\n",
       "    <tr>\n",
       "      <th>3</th>\n",
       "      <td>1</td>\n",
       "      <td>Google provides online related services and p...</td>\n",
       "      <td>Curious to dive deeper</td>\n",
       "    </tr>\n",
       "    <tr>\n",
       "      <th>4</th>\n",
       "      <td>1</td>\n",
       "      <td>Yeah, their services are good. I'm just not a...</td>\n",
       "      <td>Curious to dive deeper</td>\n",
       "    </tr>\n",
       "  </tbody>\n",
       "</table>\n",
       "</div>"
      ],
      "text/plain": [
       "   conversation_id                                            message  \\\n",
       "0                1              Are you a fan of Google or Microsoft?   \n",
       "1                1   Both are excellent technology they are helpfu...   \n",
       "2                1   I'm not  a huge fan of Google, but I use it a...   \n",
       "3                1   Google provides online related services and p...   \n",
       "4                1   Yeah, their services are good. I'm just not a...   \n",
       "\n",
       "                 sentiment  \n",
       "0   Curious to dive deeper  \n",
       "1   Curious to dive deeper  \n",
       "2   Curious to dive deeper  \n",
       "3   Curious to dive deeper  \n",
       "4   Curious to dive deeper  "
      ]
     },
     "execution_count": 186,
     "metadata": {},
     "output_type": "execute_result"
    }
   ],
   "source": [
    "pdInputData=read_csv(\".//input//topical_chat.csv\")\n",
    "pdInputData.head()"
   ]
  },
  {
   "cell_type": "markdown",
   "metadata": {},
   "source": [
    "# 1. EDA\n",
    "1. Total number of samples we have?\n",
    "2. How many conversation id we have?\n",
    "3. Avg. no. of messages across all coversations? min and max no. of messages in a conversation?\n",
    "4. How many types of sentiment we have which are those\n",
    "5. What is the min and max length of individual message\n",
    "6. In given total # of samples find out distribution of message with types of sentiment\n",
    "\n",
    "#### Analysis of messages\n",
    "1. Length of each messages in all conversations: Avg,  Min, Max"
   ]
  },
  {
   "cell_type": "code",
   "execution_count": 187,
   "metadata": {},
   "outputs": [
    {
     "name": "stdout",
     "output_type": "stream",
     "text": [
      "Dropped duplicate rows: 30\n"
     ]
    }
   ],
   "source": [
    "intTotalSamples=len(pdInputData)\n",
    "pdInputData=pdInputData.drop_duplicates().reset_index()[pdInput.columns]\n",
    "print(f\"Dropped duplicate rows: {intTotalSamples-len(pdInputData)}\")\n",
    "intTotalSamples=len(pdInputData)"
   ]
  },
  {
   "cell_type": "code",
   "execution_count": 188,
   "metadata": {},
   "outputs": [
    {
     "name": "stdout",
     "output_type": "stream",
     "text": [
      "Total no. of samples:                         188348      \n",
      "Total no. of conversations(unique ids):       8628       \n",
      "In all conversations for messages stat is:    Avg.: 22, Min: 19, Max: 53      \n",
      "Total no. of types of sentiments: 8 are:\n",
      " [' Curious to dive deeper', ' Happy', ' Neutral', ' Surprised', ' Disgusted', ' Sad', ' Fearful', ' Angry']\n"
     ]
    }
   ],
   "source": [
    "intTotalConvIds=len(pdInputData.conversation_id.unique())\n",
    "pdMsgsCountPerConversation=pdInputData.groupby('conversation_id').count()['message']\n",
    "intMeanNoOfMsgs=round(pdMsgsCountPerConversation.mean())\n",
    "intMinNoOfMsgs=pdMsgsCountPerConversation.min()\n",
    "intMaxNoOfMsgs=pdMsgsCountPerConversation.max()\n",
    "lstTypesOfSentiments=list(pdInputData.sentiment.unique())\n",
    "print(f\"Total no. of samples:                         {intTotalSamples}\\\n",
    "      \\nTotal no. of conversations(unique ids):       {intTotalConvIds} \\\n",
    "      \\nIn all conversations for messages stat is:    Avg.: {intMeanNoOfMsgs}, Min: {intMinNoOfMsgs}, Max: {intMaxNoOfMsgs}\\\n",
    "      \\nTotal no. of types of sentiments: {len(lstTypesOfSentiments)} are:\\n {lstTypesOfSentiments}\")"
   ]
  },
  {
   "cell_type": "markdown",
   "metadata": {},
   "source": [
    "#### Observation:\n",
    "1. The total # of samples are more than mentioned in the description on kaggle ( refer to research paper for exact #\n",
    "2. Same with # of conversations"
   ]
  },
  {
   "cell_type": "code",
   "execution_count": 189,
   "metadata": {},
   "outputs": [
    {
     "data": {
      "text/plain": [
       "<AxesSubplot:title={'center':'Count of messages per conversation'}, xlabel='conversation_id'>"
      ]
     },
     "execution_count": 189,
     "metadata": {},
     "output_type": "execute_result"
    },
    {
     "data": {
      "image/png": "[encoded data removed]",
      "text/plain": [
       "<Figure size 1008x360 with 1 Axes>"
      ]
     },
     "metadata": {
      "needs_background": "light"
     },
     "output_type": "display_data"
    }
   ],
   "source": [
    "pdMsgsCountPerConversation.plot(figsize=(14,5), title='Count of messages per conversation')"
   ]
  },
  {
   "cell_type": "code",
   "execution_count": 190,
   "metadata": {},
   "outputs": [
    {
     "data": {
      "text/plain": [
       "count    8628.000000\n",
       "mean       21.829856\n",
       "std         1.744628\n",
       "min        19.000000\n",
       "25%        21.000000\n",
       "50%        21.000000\n",
       "75%        22.000000\n",
       "max        53.000000\n",
       "Name: message, dtype: float64"
      ]
     },
     "execution_count": 190,
     "metadata": {},
     "output_type": "execute_result"
    }
   ],
   "source": [
    "pdMsgsCountPerConversation.describe()  "
   ]
  },
  {
   "cell_type": "markdown",
   "metadata": {},
   "source": [
    "### OBSERVATION:\n",
    "1. About 75% of total conversations having count of msgs between 19 to 22 (75% times count of msgs will lie between [19,22]) "
   ]
  },
  {
   "cell_type": "code",
   "execution_count": 191,
   "metadata": {},
   "outputs": [
    {
     "data": {
      "text/plain": [
       "13"
      ]
     },
     "execution_count": 191,
     "metadata": {},
     "output_type": "execute_result"
    }
   ],
   "source": [
    "del(pdMsgsCountPerConversation)\n",
    "gc.collect()"
   ]
  },
  {
   "cell_type": "code",
   "execution_count": 192,
   "metadata": {},
   "outputs": [
    {
     "data": {
      "text/plain": [
       "<AxesSubplot:title={'center':'Sentiments-Out of total samples % messages with sentimet'}, xlabel='sentiment'>"
      ]
     },
     "execution_count": 192,
     "metadata": {},
     "output_type": "execute_result"
    },
    {
     "data": {
      "image/png": "[encoded data removed]",
      "text/plain": [
       "<Figure size 1080x576 with 1 Axes>"
      ]
     },
     "metadata": {
      "needs_background": "light"
     },
     "output_type": "display_data"
    }
   ],
   "source": [
    "(100*pdInputData.groupby('sentiment').count()[['message']].sort_values(['message'])/intTotalSamples)\\\n",
    ".plot(kind='bar', figsize=(15,8), rot=360, alpha=1.0, title=\"Sentiments-Out of total samples % messages with sentimet\")"
   ]
  },
  {
   "cell_type": "markdown",
   "metadata": {},
   "source": [
    "### OBSERVATION:\n",
    "1. Out of total samples % messages with sentiment is not distributed eaqually.\n",
    "2. More than 40% of messages are of the sentiment curious to dive deeper and others combined is less than 60%"
   ]
  },
  {
   "cell_type": "markdown",
   "metadata": {},
   "source": [
    "# 2. Preprocessing the Dataset"
   ]
  },
  {
   "cell_type": "code",
   "execution_count": 193,
   "metadata": {},
   "outputs": [
    {
     "data": {
      "text/plain": [
       "<AxesSubplot:>"
      ]
     },
     "execution_count": 193,
     "metadata": {},
     "output_type": "execute_result"
    },
    {
     "data": {
      "image/png": "[encoded data removed]",
      "text/plain": [
       "<Figure size 1224x360 with 1 Axes>"
      ]
     },
     "metadata": {
      "needs_background": "light"
     },
     "output_type": "display_data"
    }
   ],
   "source": [
    "serStmtLenMessages=pdInputData['message'].apply(lambda x: len(x))\n",
    "serStmtLenMessages.plot(figsize=(17,5))"
   ]
  },
  {
   "cell_type": "code",
   "execution_count": 194,
   "metadata": {},
   "outputs": [
    {
     "data": {
      "text/plain": [
       "count    188348.000000\n",
       "mean        104.131830\n",
       "std          55.694761\n",
       "min           1.000000\n",
       "25%          65.000000\n",
       "50%          96.000000\n",
       "75%         134.000000\n",
       "max         697.000000\n",
       "Name: message, dtype: float64"
      ]
     },
     "execution_count": 194,
     "metadata": {},
     "output_type": "execute_result"
    }
   ],
   "source": [
    "serStmtLenMessages.describe()"
   ]
  },
  {
   "cell_type": "markdown",
   "metadata": {},
   "source": [
    "### OBESERVATION:\n",
    "1. Statement with length AvgL 104 min 1 and max 697 exists\n",
    "2. Out of total 75% we have length of statement ranging from 1 to 134 length"
   ]
  },
  {
   "cell_type": "markdown",
   "metadata": {},
   "source": [
    "# 3. Chat bot training & evaluation"
   ]
  },
  {
   "cell_type": "code",
   "execution_count": null,
   "metadata": {},
   "outputs": [],
   "source": []
  }
 ],
 "metadata": {
  "kernelspec": {
   "display_name": "Python 3",
   "language": "python",
   "name": "python3"
  },
  "language_info": {
   "codemirror_mode": {
    "name": "ipython",
    "version": 3
   },
   "file_extension": ".py",
   "mimetype": "text/x-python",
   "name": "python",
   "nbconvert_exporter": "python",
   "pygments_lexer": "ipython3",
   "version": "3.7.1"
  }
 },
 "nbformat": 4,
 "nbformat_minor": 4
}
